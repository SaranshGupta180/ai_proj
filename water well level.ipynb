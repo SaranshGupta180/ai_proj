{
 "cells": [
  {
   "cell_type": "code",
   "execution_count": 1,
   "metadata": {},
   "outputs": [],
   "source": [
    "# done h \n",
    "import numpy as np\n",
    "import pandas as pd\n",
    "import matplotlib.pyplot as plt\n",
    "from sklearn import preprocessing\n",
    "from sklearn.metrics import accuracy_score\n",
    "import pandas as pd\n",
    "from sklearn.model_selection import train_test_split\n",
    "from sklearn.ensemble import RandomForestRegressor\n",
    "from sklearn.preprocessing import StandardScaler\n",
    "from sklearn.linear_model import LinearRegression\n",
    "from sklearn.svm import SVR\n",
    "from sklearn.metrics import mean_squared_error\n",
    "import numpy as np\n",
    "import xgboost as xgb"
   ]
  },
  {
   "cell_type": "markdown",
   "metadata": {},
   "source": [
    "# Water Well level(after merging Two dataset)"
   ]
  },
  {
   "cell_type": "code",
   "execution_count": 22,
   "metadata": {},
   "outputs": [],
   "source": [
    "df=pd.read_csv(\"../Dataset/waterlevel.csv\")"
   ]
  },
  {
   "cell_type": "code",
   "execution_count": 23,
   "metadata": {},
   "outputs": [
    {
     "data": {
      "text/html": [
       "<div>\n",
       "<style scoped>\n",
       "    .dataframe tbody tr th:only-of-type {\n",
       "        vertical-align: middle;\n",
       "    }\n",
       "\n",
       "    .dataframe tbody tr th {\n",
       "        vertical-align: top;\n",
       "    }\n",
       "\n",
       "    .dataframe thead th {\n",
       "        text-align: right;\n",
       "    }\n",
       "</style>\n",
       "<table border=\"1\" class=\"dataframe\">\n",
       "  <thead>\n",
       "    <tr style=\"text-align: right;\">\n",
       "      <th></th>\n",
       "      <th>Latitude</th>\n",
       "      <th>Longitude</th>\n",
       "      <th>avg_pre_monsoon</th>\n",
       "      <th>avg_post_monsoon</th>\n",
       "    </tr>\n",
       "  </thead>\n",
       "  <tbody>\n",
       "    <tr>\n",
       "      <th>0</th>\n",
       "      <td>26.454013</td>\n",
       "      <td>74.384772</td>\n",
       "      <td>59.0</td>\n",
       "      <td>59.5</td>\n",
       "    </tr>\n",
       "    <tr>\n",
       "      <th>1</th>\n",
       "      <td>26.455013</td>\n",
       "      <td>74.385772</td>\n",
       "      <td>58.9</td>\n",
       "      <td>59.5</td>\n",
       "    </tr>\n",
       "    <tr>\n",
       "      <th>2</th>\n",
       "      <td>26.456013</td>\n",
       "      <td>74.386772</td>\n",
       "      <td>61.1</td>\n",
       "      <td>59.2</td>\n",
       "    </tr>\n",
       "    <tr>\n",
       "      <th>3</th>\n",
       "      <td>26.457013</td>\n",
       "      <td>74.387772</td>\n",
       "      <td>59.5</td>\n",
       "      <td>59.0</td>\n",
       "    </tr>\n",
       "    <tr>\n",
       "      <th>4</th>\n",
       "      <td>26.458013</td>\n",
       "      <td>74.388772</td>\n",
       "      <td>59.5</td>\n",
       "      <td>58.9</td>\n",
       "    </tr>\n",
       "  </tbody>\n",
       "</table>\n",
       "</div>"
      ],
      "text/plain": [
       "    Latitude  Longitude  avg_pre_monsoon  avg_post_monsoon\n",
       "0  26.454013  74.384772             59.0              59.5\n",
       "1  26.455013  74.385772             58.9              59.5\n",
       "2  26.456013  74.386772             61.1              59.2\n",
       "3  26.457013  74.387772             59.5              59.0\n",
       "4  26.458013  74.388772             59.5              58.9"
      ]
     },
     "execution_count": 23,
     "metadata": {},
     "output_type": "execute_result"
    }
   ],
   "source": [
    "df.head()"
   ]
  },
  {
   "cell_type": "code",
   "execution_count": 24,
   "metadata": {},
   "outputs": [
    {
     "name": "stdout",
     "output_type": "stream",
     "text": [
      "<class 'pandas.core.frame.DataFrame'>\n",
      "RangeIndex: 6003 entries, 0 to 6002\n",
      "Data columns (total 4 columns):\n",
      " #   Column            Non-Null Count  Dtype  \n",
      "---  ------            --------------  -----  \n",
      " 0   Latitude          6003 non-null   float64\n",
      " 1   Longitude         6003 non-null   float64\n",
      " 2   avg_pre_monsoon   4190 non-null   float64\n",
      " 3   avg_post_monsoon  4389 non-null   float64\n",
      "dtypes: float64(4)\n",
      "memory usage: 187.7 KB\n"
     ]
    }
   ],
   "source": [
    "df.info()"
   ]
  },
  {
   "cell_type": "code",
   "execution_count": 11,
   "metadata": {},
   "outputs": [],
   "source": [
    "df= df.dropna()"
   ]
  },
  {
   "cell_type": "code",
   "execution_count": 12,
   "metadata": {},
   "outputs": [
    {
     "data": {
      "text/html": [
       "<div>\n",
       "<style scoped>\n",
       "    .dataframe tbody tr th:only-of-type {\n",
       "        vertical-align: middle;\n",
       "    }\n",
       "\n",
       "    .dataframe tbody tr th {\n",
       "        vertical-align: top;\n",
       "    }\n",
       "\n",
       "    .dataframe thead th {\n",
       "        text-align: right;\n",
       "    }\n",
       "</style>\n",
       "<table border=\"1\" class=\"dataframe\">\n",
       "  <thead>\n",
       "    <tr style=\"text-align: right;\">\n",
       "      <th></th>\n",
       "      <th>Latitude</th>\n",
       "      <th>Longitude</th>\n",
       "      <th>avg_pre_monsoon</th>\n",
       "      <th>avg_post_monsoon</th>\n",
       "    </tr>\n",
       "  </thead>\n",
       "  <tbody>\n",
       "    <tr>\n",
       "      <th>count</th>\n",
       "      <td>4185.000000</td>\n",
       "      <td>4185.000000</td>\n",
       "      <td>4185.000000</td>\n",
       "      <td>4185.000000</td>\n",
       "    </tr>\n",
       "    <tr>\n",
       "      <th>mean</th>\n",
       "      <td>23.495882</td>\n",
       "      <td>75.892455</td>\n",
       "      <td>26.572666</td>\n",
       "      <td>22.839473</td>\n",
       "    </tr>\n",
       "    <tr>\n",
       "      <th>std</th>\n",
       "      <td>4.906783</td>\n",
       "      <td>2.257723</td>\n",
       "      <td>27.329207</td>\n",
       "      <td>26.496517</td>\n",
       "    </tr>\n",
       "    <tr>\n",
       "      <th>min</th>\n",
       "      <td>11.619500</td>\n",
       "      <td>69.026390</td>\n",
       "      <td>0.255000</td>\n",
       "      <td>0.150000</td>\n",
       "    </tr>\n",
       "    <tr>\n",
       "      <th>25%</th>\n",
       "      <td>19.830556</td>\n",
       "      <td>74.753300</td>\n",
       "      <td>9.000000</td>\n",
       "      <td>5.230000</td>\n",
       "    </tr>\n",
       "    <tr>\n",
       "      <th>50%</th>\n",
       "      <td>25.009000</td>\n",
       "      <td>76.051998</td>\n",
       "      <td>15.675000</td>\n",
       "      <td>12.325000</td>\n",
       "    </tr>\n",
       "    <tr>\n",
       "      <th>75%</th>\n",
       "      <td>26.941700</td>\n",
       "      <td>77.174100</td>\n",
       "      <td>35.895000</td>\n",
       "      <td>32.432500</td>\n",
       "    </tr>\n",
       "    <tr>\n",
       "      <th>max</th>\n",
       "      <td>30.452500</td>\n",
       "      <td>81.506080</td>\n",
       "      <td>202.000000</td>\n",
       "      <td>194.000000</td>\n",
       "    </tr>\n",
       "  </tbody>\n",
       "</table>\n",
       "</div>"
      ],
      "text/plain": [
       "          Latitude    Longitude  avg_pre_monsoon  avg_post_monsoon\n",
       "count  4185.000000  4185.000000      4185.000000       4185.000000\n",
       "mean     23.495882    75.892455        26.572666         22.839473\n",
       "std       4.906783     2.257723        27.329207         26.496517\n",
       "min      11.619500    69.026390         0.255000          0.150000\n",
       "25%      19.830556    74.753300         9.000000          5.230000\n",
       "50%      25.009000    76.051998        15.675000         12.325000\n",
       "75%      26.941700    77.174100        35.895000         32.432500\n",
       "max      30.452500    81.506080       202.000000        194.000000"
      ]
     },
     "execution_count": 12,
     "metadata": {},
     "output_type": "execute_result"
    }
   ],
   "source": [
    "df.describe()"
   ]
  },
  {
   "cell_type": "code",
   "execution_count": 13,
   "metadata": {},
   "outputs": [],
   "source": [
    "X=df[[\"Latitude\",\"Longitude\"]]\n",
    "y=df[[\"avg_pre_monsoon\",\"avg_post_monsoon\"]]\n"
   ]
  },
  {
   "cell_type": "code",
   "execution_count": 14,
   "metadata": {},
   "outputs": [],
   "source": [
    "X_train, X_test, y_train, y_test = train_test_split(X, y, test_size=0.2, random_state=42)\n",
    "\n",
    "scaler = StandardScaler()\n",
    "X_train_scaled = scaler.fit_transform(X_train)\n",
    "X_test_scaled = scaler.transform(X_test)"
   ]
  },
  {
   "cell_type": "code",
   "execution_count": 15,
   "metadata": {},
   "outputs": [
    {
     "name": "stdout",
     "output_type": "stream",
     "text": [
      "Root Mean Squared Error of random: 17.720799418055616\n",
      "Predicted Water Levels: (Rf) [[72.01141667 69.68916667]]\n"
     ]
    }
   ],
   "source": [
    "rf_model = RandomForestRegressor(n_estimators=100, random_state=42)\n",
    "rf_model.fit(X_train_scaled, y_train)\n",
    "y_pred_rf  = rf_model.predict(X_test_scaled)\n",
    "rmse_rf = np.sqrt(mean_squared_error(y_test, y_pred_rf))\n",
    "print(f'Root Mean Squared Error of random: {rmse_rf}')\n",
    "\n",
    "new_locations = pd.DataFrame({\n",
    "    'Latitude': [27.0106],\n",
    "    'Longitude': [75.7583]\n",
    "})\n",
    "\n",
    "new_locations_scaled = scaler.transform(new_locations)\n",
    "predicted_water_levels_rf = rf_model.predict(new_locations_scaled)\n",
    "\n",
    "print('Predicted Water Levels: (Rf)', predicted_water_levels_rf)"
   ]
  },
  {
   "cell_type": "code",
   "execution_count": 16,
   "metadata": {},
   "outputs": [
    {
     "name": "stdout",
     "output_type": "stream",
     "text": [
      "Root Mean Squared Error of Linear: 26.754515070849312\n",
      "Predicted Water Levels: (Linear) [[26.38744896 24.98824577]]\n"
     ]
    }
   ],
   "source": [
    "Linear_model = LinearRegression().fit(X_train_scaled,y_train)\n",
    "\n",
    "y_pred_linear  = Linear_model.predict(X_test_scaled)\n",
    "rmse_linear = np.sqrt(mean_squared_error(y_test, y_pred_linear))\n",
    "print(f'Root Mean Squared Error of Linear: {rmse_linear}')\n",
    "\n",
    "predicted_water_levels_linear = Linear_model.predict(new_locations_scaled)\n",
    "print('Predicted Water Levels: (Linear)', predicted_water_levels_linear)"
   ]
  },
  {
   "cell_type": "code",
   "execution_count": 17,
   "metadata": {},
   "outputs": [
    {
     "name": "stdout",
     "output_type": "stream",
     "text": [
      "XGBoost RMSE: 19.067383664975342\n",
      "Predicted Water Levels (XGBoost): [[66.824585 68.18652 ]]\n"
     ]
    }
   ],
   "source": [
    "# XGBoost model\n",
    "xgb_model = xgb.XGBRegressor()\n",
    "xgb_model.fit(X_train_scaled, y_train)\n",
    "\n",
    "y_pred_xgb = xgb_model.predict(X_test_scaled)\n",
    "\n",
    "rmse_xgb = np.sqrt(mean_squared_error(y_test, y_pred_xgb))\n",
    "print(f'XGBoost RMSE: {rmse_xgb}')\n",
    "\n",
    "predicted_water_levels_xg = xgb_model.predict(new_locations_scaled)  # Use the model to predict\n",
    "print('Predicted Water Levels (XGBoost):', predicted_water_levels_xg)"
   ]
  },
  {
   "cell_type": "code",
   "execution_count": 18,
   "metadata": {},
   "outputs": [
    {
     "name": "stdout",
     "output_type": "stream",
     "text": [
      "<class 'pandas.core.frame.DataFrame'>\n",
      "Index: 4185 entries, 0 to 5989\n",
      "Data columns (total 4 columns):\n",
      " #   Column            Non-Null Count  Dtype  \n",
      "---  ------            --------------  -----  \n",
      " 0   Latitude          4185 non-null   float64\n",
      " 1   Longitude         4185 non-null   float64\n",
      " 2   avg_pre_monsoon   4185 non-null   float64\n",
      " 3   avg_post_monsoon  4185 non-null   float64\n",
      "dtypes: float64(4)\n",
      "memory usage: 163.5 KB\n"
     ]
    }
   ],
   "source": [
    "df.info()"
   ]
  },
  {
   "cell_type": "markdown",
   "metadata": {},
   "source": [
    "# Only using Raj Data(Better Result)"
   ]
  },
  {
   "cell_type": "code",
   "execution_count": 7,
   "metadata": {},
   "outputs": [
    {
     "name": "stdout",
     "output_type": "stream",
     "text": [
      "Root Mean Squared Error of random: 9.517945710320669\n",
      "Predicted Water Levels: (Rf) [[47.025 47.294]]\n",
      "***************************************************************************************\n",
      "Root Mean Squared Error of Linear: 17.88998262207886\n",
      "Predicted Water Levels: (Linear) [[35.68620051 35.60208843]]\n",
      "***************************************************************************************\n",
      "XGBoost RMSE: 10.78421099243018\n",
      "Predicted Water Levels (XGBoost): [[53.046062 49.092   ]]\n"
     ]
    }
   ],
   "source": [
    "import numpy as np\n",
    "import pandas as pd\n",
    "import matplotlib.pyplot as plt\n",
    "from sklearn import preprocessing\n",
    "from sklearn.metrics import accuracy_score\n",
    "import pandas as pd\n",
    "from sklearn.model_selection import train_test_split\n",
    "from sklearn.ensemble import RandomForestRegressor\n",
    "from sklearn.preprocessing import StandardScaler\n",
    "from sklearn.linear_model import LinearRegression\n",
    "from sklearn.svm import SVR\n",
    "from sklearn.metrics import mean_squared_error\n",
    "import numpy as np\n",
    "import xgboost as xgb\n",
    "\n",
    "df=pd.read_csv(\"../Dataset/water_level_raj.csv\")\n",
    "\n",
    "df= df.dropna()\n",
    "X=df[[\"Latitude\",\"Longitude\"]]\n",
    "y=df[[\"avg_pre_monsoon\",\"avg_post_monsoon\"]]\n",
    "\n",
    "X_train, X_test, y_train, y_test = train_test_split(X, y, test_size=0.2, random_state=42)\n",
    "\n",
    "scaler = StandardScaler()\n",
    "X_train_scaled = scaler.fit_transform(X_train)\n",
    "X_test_scaled = scaler.transform(X_test)\n",
    "\n",
    "\n",
    "rf_model = RandomForestRegressor(n_estimators=100, random_state=42)\n",
    "rf_model.fit(X_train_scaled, y_train)\n",
    "y_pred_rf  = rf_model.predict(X_test_scaled)\n",
    "rmse_rf = np.sqrt(mean_squared_error(y_test, y_pred_rf))\n",
    "print(f'Root Mean Squared Error of random: {rmse_rf}')\n",
    "new_locations = pd.DataFrame({\n",
    "    'Latitude': [27.0106],\n",
    "    'Longitude': [75.7583]\n",
    "})\n",
    "new_locations_scaled = scaler.transform(new_locations)\n",
    "predicted_water_levels_rf = rf_model.predict(new_locations_scaled)\n",
    "\n",
    "print('Predicted Water Levels: (Rf)', predicted_water_levels_rf)\n",
    "print(\"***************************************************************************************\")\n",
    "Linear_model = LinearRegression().fit(X_train_scaled,y_train)\n",
    "\n",
    "y_pred_linear  = Linear_model.predict(X_test_scaled)\n",
    "rmse_linear = np.sqrt(mean_squared_error(y_test, y_pred_linear))\n",
    "print(f'Root Mean Squared Error of Linear: {rmse_linear}')\n",
    "\n",
    "predicted_water_levels_linear = Linear_model.predict(new_locations_scaled)\n",
    "print('Predicted Water Levels: (Linear)', predicted_water_levels_linear)\n",
    "print(\"***************************************************************************************\")\n",
    "# XGBoost model\n",
    "xgb_model = xgb.XGBRegressor()\n",
    "xgb_model.fit(X_train_scaled, y_train)\n",
    "\n",
    "y_pred_xgb = xgb_model.predict(X_test_scaled)\n",
    "\n",
    "rmse_xgb = np.sqrt(mean_squared_error(y_test, y_pred_xgb))\n",
    "print(f'XGBoost RMSE: {rmse_xgb}')\n",
    "\n",
    "predicted_water_levels_xg = xgb_model.predict(new_locations_scaled)  # Use the model to predict\n",
    "print('Predicted Water Levels (XGBoost):', predicted_water_levels_xg)"
   ]
  },
  {
   "cell_type": "code",
   "execution_count": null,
   "metadata": {},
   "outputs": [],
   "source": []
  },
  {
   "cell_type": "code",
   "execution_count": 6,
   "metadata": {},
   "outputs": [
    {
     "name": "stdout",
     "output_type": "stream",
     "text": [
      "<class 'pandas.core.frame.DataFrame'>\n",
      "RangeIndex: 513 entries, 0 to 512\n",
      "Data columns (total 5 columns):\n",
      " #   Column            Non-Null Count  Dtype  \n",
      "---  ------            --------------  -----  \n",
      " 0   Latitude          513 non-null    float64\n",
      " 1   Longitude         513 non-null    float64\n",
      " 2   Hyd_Formation     513 non-null    object \n",
      " 3   avg_pre_monsoon   513 non-null    float64\n",
      " 4   avg_post_monsoon  513 non-null    float64\n",
      "dtypes: float64(4), object(1)\n",
      "memory usage: 20.2+ KB\n"
     ]
    }
   ],
   "source": [
    "df.info()"
   ]
  },
  {
   "cell_type": "code",
   "execution_count": 1,
   "metadata": {},
   "outputs": [],
   "source": [
    "# below is new-> 11/12/24"
   ]
  },
  {
   "cell_type": "code",
   "execution_count": 5,
   "metadata": {},
   "outputs": [
    {
     "name": "stdout",
     "output_type": "stream",
     "text": [
      "Root Mean Squared Error of Random Forest: 9.517945710320669\n",
      "Input data: [[27.0106 75.7583]]\n",
      "Scaled input data: [[0.644685  0.1521609]]\n",
      "Predicted values: [[47.025 47.294]]\n",
      "Predicted Water Levels for Latitude: 27.0106, Longitude: 75.7583: [[47.025 47.294]]\n"
     ]
    },
    {
     "name": "stderr",
     "output_type": "stream",
     "text": [
      "c:\\Users\\hp5cd\\AppData\\Local\\Programs\\Python\\Python311\\Lib\\site-packages\\sklearn\\base.py:464: UserWarning: X does not have valid feature names, but StandardScaler was fitted with feature names\n",
      "  warnings.warn(\n"
     ]
    }
   ],
   "source": [
    "import numpy as np\n",
    "import pandas as pd\n",
    "from sklearn.preprocessing import StandardScaler\n",
    "from sklearn.model_selection import train_test_split\n",
    "from sklearn.ensemble import RandomForestRegressor\n",
    "from sklearn.metrics import mean_squared_error\n",
    "\n",
    "# Load and preprocess the data\n",
    "df = pd.read_csv(\"../Dataset/water_level_raj.csv\")\n",
    "df = df.dropna()\n",
    "\n",
    "X = df[[\"Latitude\", \"Longitude\"]]\n",
    "y = df[[\"avg_pre_monsoon\", \"avg_post_monsoon\"]]\n",
    "\n",
    "X_train, X_test, y_train, y_test = train_test_split(X, y, test_size=0.2, random_state=42)\n",
    "\n",
    "scaler = StandardScaler()\n",
    "X_train_scaled = scaler.fit_transform(X_train)\n",
    "X_test_scaled = scaler.transform(X_test)\n",
    "\n",
    "# Train the RandomForest model\n",
    "rf_model = RandomForestRegressor(n_estimators=100, random_state=42)\n",
    "rf_model.fit(X_train_scaled, y_train)\n",
    "\n",
    "# Predict and evaluate the model\n",
    "y_pred_rf = rf_model.predict(X_test_scaled)\n",
    "rmse_rf = np.sqrt(mean_squared_error(y_test, y_pred_rf))\n",
    "print(f'Root Mean Squared Error of Random Forest: {rmse_rf}')\n",
    "\n",
    "# Function to predict water levels\n",
    "def predict_water_levels(input_data):\n",
    "    print(f'Input data: {input_data}')  # Check input data shape\n",
    "    input_scaled = scaler.transform(input_data)\n",
    "    print(f'Scaled input data: {input_scaled}')  # Check scaled input\n",
    "    predicted_water_levels = rf_model.predict(input_scaled)\n",
    "    print(f'Predicted values: {predicted_water_levels}')  # Check predicted values\n",
    "    return predicted_water_levels\n",
    "\n",
    "# Example input data (latitude, longitude)\n",
    "input_data = np.array([[27.0106, 75.7583]])\n",
    "\n",
    "# Predict water levels for the input data\n",
    "predicted_water_levels_rf = predict_water_levels(input_data)\n",
    "\n",
    "# Output the predicted water levels (for both avg_pre_monsoon and avg_post_monsoon)\n",
    "print(f'Predicted Water Levels for Latitude: {input_data[0][0]}, Longitude: {input_data[0][1]}: {predicted_water_levels_rf}')\n"
   ]
  },
  {
   "cell_type": "code",
   "execution_count": 9,
   "metadata": {},
   "outputs": [],
   "source": [
    "import pickle\n",
    "with open('new_model/water_level_model.pkl', 'wb') as model_file:\n",
    "    pickle.dump(rf_model, model_file)\n",
    "\n",
    "with open('new_model/scaler.pkl', 'wb') as scaler_file:\n",
    "    pickle.dump(scaler, scaler_file)"
   ]
  },
  {
   "cell_type": "code",
   "execution_count": 12,
   "metadata": {},
   "outputs": [
    {
     "name": "stdout",
     "output_type": "stream",
     "text": [
      "[47.025 47.294]\n"
     ]
    },
    {
     "name": "stderr",
     "output_type": "stream",
     "text": [
      "c:\\Users\\hp5cd\\AppData\\Local\\Programs\\Python\\Python311\\Lib\\site-packages\\sklearn\\base.py:464: UserWarning: X does not have valid feature names, but StandardScaler was fitted with feature names\n",
      "  warnings.warn(\n"
     ]
    }
   ],
   "source": [
    "with open('new_model/water_level_model.pkl', 'rb') as model_file:\n",
    "    water_level_model = pickle.load(model_file)\n",
    "\n",
    "with open('new_model/scaler.pkl', 'rb') as scaler_file:\n",
    "    scaler = pickle.load(scaler_file)\n",
    "\n",
    "def predict_water_levels(input_data):\n",
    "    input_scaled = scaler.transform(input_data)\n",
    "    predicted_water_levels = water_level_model.predict(input_scaled)\n",
    "    return predicted_water_levels\n",
    "\n",
    "# Example input data (latitude, longitude)\n",
    "input_data = np.array([[27.0106, 75.7583]])\n",
    "\n",
    "# Predict water levels\n",
    "predicted_water_levels = predict_water_levels(input_data)\n",
    "print(predicted_water_levels[0])\n"
   ]
  },
  {
   "cell_type": "code",
   "execution_count": null,
   "metadata": {},
   "outputs": [],
   "source": []
  }
 ],
 "metadata": {
  "kernelspec": {
   "display_name": "Python 3",
   "language": "python",
   "name": "python3"
  },
  "language_info": {
   "codemirror_mode": {
    "name": "ipython",
    "version": 3
   },
   "file_extension": ".py",
   "mimetype": "text/x-python",
   "name": "python",
   "nbconvert_exporter": "python",
   "pygments_lexer": "ipython3",
   "version": "3.11.4"
  }
 },
 "nbformat": 4,
 "nbformat_minor": 2
}
